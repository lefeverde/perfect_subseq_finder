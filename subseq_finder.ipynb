{
 "cells": [
  {
   "cell_type": "markdown",
   "metadata": {},
   "source": [
    "# Identifying Repetitive Subsequences Within the Human Genome"
   ]
  },
  {
   "cell_type": "markdown",
   "metadata": {},
   "source": [
    "All scripting was done using python. First code chunk is the imports. The code uses biopython, so that will need to be installed.\n",
    "\n"
   ]
  },
  {
   "cell_type": "code",
   "execution_count": 46,
   "metadata": {
    "collapsed": true
   },
   "outputs": [],
   "source": [
    "from __future__ import division\n",
    "\n",
    "import string\n",
    "import numpy \n",
    "import os\n",
    "\n",
    "from Bio import SeqIO, Seq, SeqRecord\n",
    "from collections import OrderedDict\n",
    "from collections import Counter\n",
    "\n"
   ]
  },
  {
   "cell_type": "markdown",
   "metadata": {
    "collapsed": true
   },
   "source": [
    "The class below is basically just breaks a sequence into subsequences using an adjustable size subsequence size. I don't think it is important to understand the code here. I just used this to break the genome into 20 base pair chunks, for each chromosome. I have included a demonstration of how it works below."
   ]
  },
  {
   "cell_type": "code",
   "execution_count": 47,
   "metadata": {
    "collapsed": true
   },
   "outputs": [],
   "source": [
    "# Script was taken from:\n",
    "# https://scipher.wordpress.com/2010/12/02/simple-sliding-window-iterator-in-python/\n",
    "# This is my original solution.  It is a true iterator class.  It is included here only for completeness. I have replaced it in the repo with the much clearer code above.\n",
    "class SlidingWindow(object):\n",
    "    \"\"\"Returns iterator that will emit chunks of size 'winSize' each time self.next()\n",
    "    is called.\"\"\"\n",
    "    def __init__(self,sequence,winSize,step=1):\n",
    "        \"\"\"Returns iterator that will emit chunks of size 'winSize' and 'step' forward in\n",
    "        the seq each time self.next() is called.\"\"\"\n",
    "\n",
    "        # verification code\n",
    "        if not type(sequence) == type(''):\n",
    "            raise Exception(\"**ERROR** type(sequence) must be str.\")\n",
    "        if not ((type(winSize) == type(0)) and (type(step) == type(0))):\n",
    "            raise Exception(\"**ERROR** type(winSize) and type(step) must be int.\")\n",
    "        if step > winSize:\n",
    "            raise Exception(\"**ERROR** step must not be larger than winSize.\")\n",
    "        if winSize > len(sequence):\n",
    "            raise Exception(\"**ERROR** winSize must not be larger than sequence length.\")\n",
    "        self._seq = sequence\n",
    "        self._step = step\n",
    "        self._start = 0\n",
    "        self._stop = winSize\n",
    "\n",
    "    def __iter__(self):\n",
    "        return self\n",
    "\n",
    "    def next(self):\n",
    "        \"\"\"Returns next window chunk or ends iteration if the sequence has ended.\"\"\"\n",
    "        try:\n",
    "            assert self._stop <= len(self._seq), \"Not True!\"\n",
    "            chunk = self._seq[self._start:self._stop]\n",
    "            self._start += self._step\n",
    "            self._stop  += self._step\n",
    "            return chunk\n",
    "        except AssertionError:\n",
    "            raise StopIteration\n"
   ]
  },
  {
   "cell_type": "markdown",
   "metadata": {},
   "source": [
    "The code chunk below is just a demonstration of how the sliding window works."
   ]
  },
  {
   "cell_type": "code",
   "execution_count": 48,
   "metadata": {
    "collapsed": false
   },
   "outputs": [
    {
     "name": "stdout",
     "output_type": "stream",
     "text": [
      "Example Sequence:\n",
      "\n",
      "ABCDEFGHIJKLMNOPQRSTUVWXYZ\n",
      "\n",
      "Sliding window of subseqs:\n",
      "\n",
      "ABCDE*********************\n",
      "*BCDEF********************\n",
      "**CDEFG*******************\n",
      "***DEFGH******************\n",
      "****EFGHI*****************\n",
      "*****FGHIJ****************\n",
      "******GHIJK***************\n",
      "*******HIJKL**************\n",
      "********IJKLM*************\n",
      "*********JKLMN************\n",
      "**********KLMNO***********\n",
      "***********LMNOP**********\n",
      "************MNOPQ*********\n",
      "*************NOPQR********\n",
      "**************OPQRS*******\n",
      "***************PQRST******\n",
      "****************QRSTU*****\n",
      "*****************RSTUV****\n",
      "******************STUVW***\n",
      "*******************TUVWX**\n",
      "********************UVWXY*\n",
      "*********************VWXYZ\n"
     ]
    }
   ],
   "source": [
    "slider_test_str = string.ascii_uppercase\n",
    "test_slide = SlidingWindow(slider_test_str, 5)\n",
    "print('Example Sequence:\\n')\n",
    "print(slider_test_str)\n",
    "print('\\nSliding window of subseqs:\\n')\n",
    "for cur_ind,i in enumerate(test_slide):\n",
    "    pos = cur_ind #-1\n",
    "    front_astr = '*'*pos\n",
    "    end_astr = '*'*(len(slider_test_str) - pos - 5)\n",
    "    out_str = front_astr + i + end_astr\n",
    "    print out_str"
   ]
  },
  {
   "cell_type": "markdown",
   "metadata": {},
   "source": [
    "The function below uses the ``SlidingWindow`` to break the genome into 20 bp chunks and then count the number of times each chunk is present. The ambiguous bases are ignored and soft-masked bases are converted to upper case. The subseq argument can be adjusted to an arbitrary length. The ``counter_to_tuplist`` function returns a list with the repetitive sequences sorted by count.\n"
   ]
  },
  {
   "cell_type": "code",
   "execution_count": 65,
   "metadata": {
    "collapsed": true
   },
   "outputs": [],
   "source": [
    "def perfect_matcher(cur_fasta, subseq_len):\n",
    "    '''\n",
    "    This function takes either a single chromosome fasta file\n",
    "    or a sequence as a string as input. The latter is done for\n",
    "    testing purposes. If the input (cur_fasta) is not a file, it is assumed\n",
    "    a string.\n",
    "    TODO fix error with not existant file as input\n",
    "    '''\n",
    "\n",
    "    if os.path.isfile(cur_fasta):\n",
    "        with open(cur_fasta, 'rU') as open_fasta:\n",
    "            cur_seqrec = SeqIO.read(open_fasta, 'fasta')\n",
    "            seq_as_str = cur_seqrec.seq\n",
    "    else:\n",
    "        seq_as_str = cur_fasta\n",
    "\n",
    "    electric_slide = SlidingWindow(str(seq_as_str), subseq_len)\n",
    "    big_subseq_list = []\n",
    "    for i in electric_slide:\n",
    "        if 'N' not in i:\n",
    "            big_subseq_list.append((i.upper()))\n",
    "\n",
    "    #big_subseq_list = [i.upper() for i in electric_slide]\n",
    "    subseq_cnts = Counter(big_subseq_list)\n",
    "    return subseq_cnts\n",
    "\n",
    "def counter_to_tuplist(counter_object):\n",
    "    '''\n",
    "    Takes counter object from perfect_matcher and\n",
    "    turns it into a sorted list of tuples in the format as\n",
    "    (subseq, count)\n",
    "    '''\n",
    "    subcount_list = []\n",
    "    for subseq, count in counter_object.iteritems():\n",
    "        subcount_list.append((subseq, count))\n",
    "    sorted_subcount = sorted(subcount_list, key=lambda x: -x[1])\n",
    "    return sorted_subcount"
   ]
  },
  {
   "cell_type": "markdown",
   "metadata": {},
   "source": [
    "Here is a code chunk with an example sequence. The following sequence contains the the subsequence 'AATCA' 3 times. The rest of the sequence are bases chosen at random. The "
   ]
  },
  {
   "cell_type": "code",
   "execution_count": 67,
   "metadata": {
    "collapsed": false,
    "scrolled": false
   },
   "outputs": [
    {
     "data": {
      "text/plain": [
       "[('AATCA', 3),\n",
       " ('TACAT', 1),\n",
       " ('CAACT', 1),\n",
       " ('AGTTA', 1),\n",
       " ('CAATC', 1),\n",
       " ('TAGTT', 1),\n",
       " ('CTAGT', 1),\n",
       " ('TAATC', 1),\n",
       " ('CATAA', 1),\n",
       " ('TTATT', 1),\n",
       " ('CACAA', 1),\n",
       " ('TTACA', 1),\n",
       " ('ACATA', 1),\n",
       " ('ATTAC', 1),\n",
       " ('AACTA', 1),\n",
       " ('ACAAT', 1),\n",
       " ('TCAAC', 1),\n",
       " ('GTTAT', 1),\n",
       " ('TCACA', 1),\n",
       " ('TATTA', 1),\n",
       " ('ACTAG', 1),\n",
       " ('ATAAT', 1),\n",
       " ('ATCAA', 1),\n",
       " ('ATCAC', 1)]"
      ]
     },
     "execution_count": 67,
     "metadata": {},
     "output_type": "execute_result"
    }
   ],
   "source": [
    "example_seq = 'AATCAACTAGTTATTACATAATCACAATCA'\n",
    "counter_to_tuplist(perfect_matcher(example_seq, 5))"
   ]
  },
  {
   "cell_type": "markdown",
   "metadata": {},
   "source": [
    "That is basically the entire script. The remaining function `main` in the `perfect_subseq_finder.py` script takes care of executing the script itself. The script was written to be executed from the command line. The input is a directory containing fasta files of the human genome. I had initially used hg38.p7 but any version would work. Once the files are downloaded and un-compressed, the script can be ran like so: \n",
    "```bash\n",
    "$ python perfect_subseq_finder.py -i fasta_dir\n",
    "```"
   ]
  }
 ],
 "metadata": {
  "anaconda-cloud": {},
  "kernelspec": {
   "display_name": "Python [Root]",
   "language": "python",
   "name": "Python [Root]"
  },
  "language_info": {
   "codemirror_mode": {
    "name": "ipython",
    "version": 2
   },
   "file_extension": ".py",
   "mimetype": "text/x-python",
   "name": "python",
   "nbconvert_exporter": "python",
   "pygments_lexer": "ipython2",
   "version": "2.7.12"
  }
 },
 "nbformat": 4,
 "nbformat_minor": 0
}
